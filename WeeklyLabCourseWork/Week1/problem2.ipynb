{
  "nbformat": 4,
  "nbformat_minor": 0,
  "metadata": {
    "kernelspec": {
      "display_name": "Python 3",
      "language": "python",
      "name": "python3"
    },
    "language_info": {
      "codemirror_mode": {
        "name": "ipython",
        "version": 3
      },
      "file_extension": ".py",
      "mimetype": "text/x-python",
      "name": "python",
      "nbconvert_exporter": "python",
      "pygments_lexer": "ipython3",
      "version": "3.7.10"
    },
    "colab": {
      "name": "problem2.ipynb",
      "provenance": [],
      "collapsed_sections": []
    }
  },
  "cells": [
    {
      "cell_type": "markdown",
      "metadata": {
        "id": "RSuA2f8Jlojf"
      },
      "source": [
        "Before you turn this problem in, make sure everything runs as expected. First, **restart the kernel** (in the menubar, select Kernel$\\rightarrow$Restart) and then **run all cells** (in the menubar, select Cell$\\rightarrow$Run All).\n",
        "\n",
        "Make sure you fill in any place that says `YOUR CODE HERE` or \"YOUR ANSWER HERE\", as well as your name and collaborators below:"
      ]
    },
    {
      "cell_type": "code",
      "metadata": {
        "id": "oW1K7w-eloji"
      },
      "source": [
        "NAME = \"Nouman Mureed\"\n",
        "COLLABORATORS = \"None\""
      ],
      "execution_count": null,
      "outputs": []
    },
    {
      "cell_type": "markdown",
      "metadata": {
        "id": "mieH8wDClojj"
      },
      "source": [
        "---"
      ]
    },
    {
      "cell_type": "markdown",
      "metadata": {
        "id": "ybwKzzgYlojk"
      },
      "source": [
        "---\n",
        "# Welcome to CE880\n",
        "### This is your week-1 : Problem 2 notebook\n",
        "\n",
        "For this problem set, we'll be using the Jupyter notebook and please upload this notebook to [Google Colab](https://colab.research.google.com/). "
      ]
    },
    {
      "cell_type": "markdown",
      "metadata": {
        "id": "alUqw1JJlojl"
      },
      "source": [
        "---\n",
        "## Question 4:\n",
        "\n",
        "Write a Python program to print the even numbers from a given list.\n",
        "\n",
        "Sample List : `[1, 2, 3, 4, 6, 7, 8, 9]`\n",
        "Expected Result : `[2, 4, 6, 8]`"
      ]
    },
    {
      "cell_type": "code",
      "metadata": {
        "deletable": false,
        "nbgrader": {
          "cell_type": "code",
          "checksum": "8a11712af9220b055cd12fc972464e21",
          "grade": false,
          "grade_id": "even_num_ans",
          "locked": false,
          "schema_version": 3,
          "solution": true,
          "task": false
        },
        "id": "nTTWI8_blojl"
      },
      "source": [
        "def even_num(lst_1):\n",
        "    \"\"\"Write a Python program to print the even numbers from a given list.\"\"\"\n",
        "    \n",
        "    # YOUR CODE HERE\n",
        "    number = []\n",
        "    for num in lst_1:\n",
        "      if num % 2 == 0:\n",
        "        number.append(num)\n",
        "    return number\n",
        "\n",
        "    raise NotImplementedError()"
      ],
      "execution_count": 4,
      "outputs": []
    },
    {
      "cell_type": "code",
      "metadata": {
        "id": "L0ygdjiSlojm"
      },
      "source": [
        "assert even_num([2, 3, 14, 17, 8, 19, 11, 14])"
      ],
      "execution_count": 5,
      "outputs": []
    },
    {
      "cell_type": "code",
      "metadata": {
        "deletable": false,
        "editable": false,
        "nbgrader": {
          "cell_type": "code",
          "checksum": "6705e886d4dfca0e7c07806c055d8d85",
          "grade": true,
          "grade_id": "cell-87c42cb5c0f501eb",
          "locked": true,
          "points": 1,
          "schema_version": 3,
          "solution": false,
          "task": false
        },
        "colab": {
          "base_uri": "https://localhost:8080/"
        },
        "id": "Zak21t96lojn",
        "outputId": "c0adfaac-4c16-42ee-f6c2-c3e8621b5054"
      },
      "source": [
        "even_num([1, 2, 3, 4, 6, 7, 8, 9]) == [2, 4, 6, 8]\n",
        "even_num([2, 3, 4, 7, 8, 9, 11, 14]) == [2, 4, 8, 14]\n",
        "even_num([2, 3, 14, 17, 8, 19, 11, 14]) == [ 2,  8, 14]"
      ],
      "execution_count": 6,
      "outputs": [
        {
          "output_type": "execute_result",
          "data": {
            "text/plain": [
              "False"
            ]
          },
          "metadata": {},
          "execution_count": 6
        }
      ]
    },
    {
      "cell_type": "markdown",
      "metadata": {
        "id": "iuXkA4bZlojo"
      },
      "source": [
        "---\n",
        "## Question 5:\n",
        "\n",
        "Write a Python function to create and print a list where the values are square of numbers between 1 and `n`, where `n` is user defined number: Example sqr_values(4) == `[1, 4, 9]`"
      ]
    },
    {
      "cell_type": "code",
      "metadata": {
        "deletable": false,
        "nbgrader": {
          "cell_type": "code",
          "checksum": "5df07d41d1fe24c9357fdc4885a57efd",
          "grade": false,
          "grade_id": "sqr_values_ans",
          "locked": false,
          "schema_version": 3,
          "solution": true,
          "task": false
        },
        "id": "LIVE4ymOlojp"
      },
      "source": [
        "def sqr_values(n):\n",
        "    \"\"\"Write a Python program to print the square of numbers between 1 and `n`\"\"\"\n",
        "    list = []\n",
        "    for i in range(1, n):\n",
        "      a = i*i\n",
        "      list.append(a)\n",
        "    return list\n",
        "    # YOUR CODE HERE\n",
        "    raise NotImplementedError()"
      ],
      "execution_count": 34,
      "outputs": []
    },
    {
      "cell_type": "code",
      "metadata": {
        "id": "Vx-x5h0Olojq"
      },
      "source": [
        "assert sqr_values(4)"
      ],
      "execution_count": 35,
      "outputs": []
    },
    {
      "cell_type": "code",
      "metadata": {
        "deletable": false,
        "editable": false,
        "nbgrader": {
          "cell_type": "code",
          "checksum": "f23bc7d9c871aef82903c5edb35a39ec",
          "grade": true,
          "grade_id": "sqr_values_test",
          "locked": true,
          "points": 1,
          "schema_version": 3,
          "solution": false,
          "task": false
        },
        "id": "9Kn8ry4qlojq"
      },
      "source": [
        "\"\"\"Check that sqr_values returns the correct answer for various inputs.\"\"\"\n",
        "assert sqr_values(4) == [1, 4, 9]\n",
        "assert sqr_values(8) == [1, 4, 9, 16, 25, 36, 49]\n",
        "assert sqr_values(9) == [1, 4, 9, 16, 25, 36, 49, 64]\n",
        "assert sqr_values(11) == [1, 4, 9, 16, 25, 36, 49, 64, 81, 100]"
      ],
      "execution_count": 36,
      "outputs": []
    },
    {
      "cell_type": "markdown",
      "metadata": {
        "id": "yLmW_Ogglojr"
      },
      "source": [
        "## Question 6\n",
        "\n",
        "Write a Python program to generate all permutations of a list in Python.\n",
        "\n",
        "In mathematics, the notion of permutation relates to the act of arranging all the members of a set into some sequence or order, or if the set is already ordered, rearranging (reordering) its elements, a process called permuting. These differ from combinations, which are selections of some members of a set where order is disregarded."
      ]
    },
    {
      "cell_type": "code",
      "metadata": {
        "id": "puL2nde5WwWr"
      },
      "source": [
        "import itertools\n",
        "def perm_list(lst):\n",
        "  \"\"\"Write a Python program to calculate number of days between two dates.\"\"\"\n",
        "  permutations = list(itertools.permutations(lst))\n",
        "\n",
        "  return permutations\n",
        "  raise NotImplementedError"
      ],
      "execution_count": 48,
      "outputs": []
    },
    {
      "cell_type": "code",
      "metadata": {
        "id": "t01WG1omlojt"
      },
      "source": [
        "assert perm_list([1,2, 4])"
      ],
      "execution_count": 51,
      "outputs": []
    },
    {
      "cell_type": "code",
      "metadata": {
        "deletable": false,
        "editable": false,
        "nbgrader": {
          "cell_type": "code",
          "checksum": "a6c26f2cf086aef51c944d4707afc484",
          "grade": true,
          "grade_id": "cal_days_test",
          "locked": true,
          "points": 1,
          "schema_version": 3,
          "solution": false,
          "task": false
        },
        "id": "Ev6NxzsQloju"
      },
      "source": [
        "assert perm_list([1,2]) == [(1, 2), (2, 1)]\n",
        "assert perm_list([1,2, 4]) == [(1, 2, 4), (1, 4, 2), (2, 1, 4), (2, 4, 1), (4, 1, 2), (4, 2, 1)]"
      ],
      "execution_count": 50,
      "outputs": []
    }
  ]
}