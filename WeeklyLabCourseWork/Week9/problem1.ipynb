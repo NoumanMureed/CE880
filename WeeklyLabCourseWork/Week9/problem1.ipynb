{
  "cells": [
    {
      "cell_type": "markdown",
      "metadata": {
        "id": "UdH8hgfL94Aw"
      },
      "source": [
        "Before you turn this problem in, make sure everything runs as expected. First, **restart the kernel** (in the menubar, select Kernel$\\rightarrow$Restart) and then **run all cells** (in the menubar, select Cell$\\rightarrow$Run All).\n",
        "\n",
        "Make sure you fill in any place that says `YOUR CODE HERE` or \"YOUR ANSWER HERE\", as well as your name and collaborators below:"
      ]
    },
    {
      "cell_type": "code",
      "execution_count": null,
      "metadata": {
        "id": "MA3qTisT94Ay"
      },
      "outputs": [],
      "source": [
        "NAME = \"Nouman Mureed\"\n",
        "COLLABORATORS = \"None\""
      ]
    },
    {
      "cell_type": "markdown",
      "metadata": {
        "id": "0TZZTQL894A0"
      },
      "source": [
        "---"
      ]
    },
    {
      "cell_type": "markdown",
      "metadata": {
        "id": "pSNOtNLQ94A0"
      },
      "source": [
        "---\n",
        "# Welcome to CE880\n",
        "### This is your week-9 : Problem notebook\n",
        "\n",
        "For this problem set, we'll be using the Jupyter notebook and please upload this notebook to [Google Colab](https://colab.research.google.com/). \n",
        "\n",
        "Paris Housing is a set of data created from imaginary data of house prices in an urban environment. \n",
        "https://github.com/sagihaider/CE880_2021/blob/main/Data/ParisHousingClass.csv \n",
        "\n",
        "All attributes are numeric variables and they are listed bellow:\n",
        "* squareMeters\n",
        "* numberOfRooms\n",
        "* hasYard\n",
        "* hasPool\n",
        "* floors - number of floors\n",
        "* cityCode - zip code\n",
        "* cityPartRange - the higher the range, the more exclusive the neighbourhood is\n",
        "* numPrevOwners - number of prevoious owners\n",
        "* made - year\n",
        "* isNewBuilt\n",
        "* hasStormProtector\n",
        "* basement - basement square meters\n",
        "* attic - attic square meteres\n",
        "* garage - garage size\n",
        "* hasStorageRoom\n",
        "* hasGuestRoom - number of guest rooms\n",
        "* price - price of a house\n",
        "* category - Luxury or Basic"
      ]
    },
    {
      "cell_type": "code",
      "execution_count": 1,
      "metadata": {
        "colab": {
          "base_uri": "https://localhost:8080/"
        },
        "id": "WT3kdy4I94A2",
        "outputId": "09dbad3f-21ea-4673-dc42-ac8352945864"
      },
      "outputs": [
        {
          "output_type": "stream",
          "name": "stdout",
          "text": [
            "              numberOfRooms  hasYard  hasPool  ...  hasGuestRoom      price  category\n",
            "squareMeters                                   ...                                   \n",
            "75523                     3        0        1  ...             7  7559081.5     Basic\n",
            "80771                    39        1        1  ...             2  8085989.5    Luxury\n",
            "55712                    58        0        1  ...             9  5574642.1     Basic\n",
            "32316                    47        0        0  ...             3  3232561.2     Basic\n",
            "70429                    19        1        1  ...             4  7055052.0    Luxury\n",
            "\n",
            "[5 rows x 17 columns]\n"
          ]
        }
      ],
      "source": [
        "import numpy as np \n",
        "import pandas as pd \n",
        "url = 'https://raw.githubusercontent.com/sagihaider/CE880_2021/main/Data/ParisHousingClass.csv'\n",
        "trainData = pd.read_csv(url,index_col=0)\n",
        "print(trainData.head())"
      ]
    },
    {
      "cell_type": "code",
      "execution_count": 2,
      "metadata": {
        "colab": {
          "base_uri": "https://localhost:8080/"
        },
        "id": "NMn4bN2G94A3",
        "outputId": "6ffaa83d-e666-42e4-b7af-3e4f231ac51c"
      },
      "outputs": [
        {
          "output_type": "stream",
          "name": "stdout",
          "text": [
            "category ['Basic' 'Luxury']\n"
          ]
        }
      ],
      "source": [
        "from sklearn.preprocessing import LabelEncoder\n",
        "\n",
        "def label_encoded(feat):\n",
        "    le=LabelEncoder()\n",
        "    le.fit(feat)\n",
        "    print(feat.name,le.classes_)\n",
        "    return le.transform(feat)\n",
        "trainData['category']=label_encoded(trainData['category'])"
      ]
    },
    {
      "cell_type": "code",
      "execution_count": 3,
      "metadata": {
        "id": "vs_D6D4u94A3"
      },
      "outputs": [],
      "source": [
        "from sklearn.model_selection import train_test_split,GridSearchCV\n",
        "\n",
        "y=trainData['category']\n",
        "x=trainData.drop('category',axis=1)\n",
        "xtrain,xtest,ytrain,ytest=train_test_split(x,y,test_size=0.2,random_state=42)\n",
        "#trainData"
      ]
    },
    {
      "cell_type": "markdown",
      "metadata": {
        "id": "dq4dK1-394A5"
      },
      "source": [
        "---\n",
        "## Question 1: \n",
        "\n",
        "#### Classification\n",
        "Use the dataset, which I have spilted into training and test sets (xtrain, xtest, ytrain, ytest), please train the machine learning model to get the test accuracy of 100%. You are free to use any classication model such as Decision Tree, Random Forest, KNN, SVM..etc. \n",
        "\n",
        "Hint: Please use grid search to find a best model using different parameters. "
      ]
    },
    {
      "cell_type": "code",
      "execution_count": 6,
      "metadata": {
        "deletable": false,
        "nbgrader": {
          "cell_type": "code",
          "checksum": "7d59a986a353bb89559cb1ff0cf34516",
          "grade": false,
          "grade_id": "my_model_ans",
          "locked": false,
          "schema_version": 3,
          "solution": true,
          "task": false
        },
        "id": "Pj_I62wp94A6",
        "colab": {
          "base_uri": "https://localhost:8080/"
        },
        "outputId": "13f105fe-f663-40a5-b0e1-83573f35e290"
      },
      "outputs": [
        {
          "output_type": "stream",
          "name": "stdout",
          "text": [
            "100.0\n"
          ]
        }
      ],
      "source": [
        "from sklearn.ensemble import RandomForestClassifier\n",
        "from sklearn.svm import SVC\n",
        "from sklearn.metrics import accuracy_score\n",
        "\n",
        "def my_model(xtrain,xtest,ytrain,ytest):\n",
        "    \"\"\"Write a function to train a machine learning model to get the test accuracy of 100%. \n",
        "    You are free to use any classication model such as Decision Tree, \n",
        "    Random Forest, KNN, SVM..etc. \"\"\"\n",
        "    # YOUR CODE HERE\n",
        "    model = RandomForestClassifier(random_state=42)\n",
        "    model.fit(xtrain, ytrain)\n",
        "    y_pred = model.predict(xtest)\n",
        "\n",
        "    acc = accuracy_score(ytest, y_pred)\n",
        "    return acc * 100\n",
        "\n",
        "    raise NotImplementedError()\n",
        "\n",
        "#print(my_model(xtrain,xtest,ytrain,ytest))"
      ]
    },
    {
      "cell_type": "code",
      "execution_count": 7,
      "metadata": {
        "deletable": false,
        "editable": false,
        "nbgrader": {
          "cell_type": "code",
          "checksum": "b15a8a354453f7e99cb9fa5a6cb0b977",
          "grade": true,
          "grade_id": "my_model_test",
          "locked": true,
          "points": 9,
          "schema_version": 3,
          "solution": false,
          "task": false
        },
        "id": "kXoSJXFC94A6"
      },
      "outputs": [],
      "source": [
        "# Check you solution by running this cell\n",
        "import math\n",
        "assert math.isclose(my_model(xtrain,xtest,ytrain,ytest), 100.0, rel_tol = 0.05)"
      ]
    }
  ],
  "metadata": {
    "kernelspec": {
      "display_name": "Python 3",
      "language": "python",
      "name": "python3"
    },
    "language_info": {
      "codemirror_mode": {
        "name": "ipython",
        "version": 3
      },
      "file_extension": ".py",
      "mimetype": "text/x-python",
      "name": "python",
      "nbconvert_exporter": "python",
      "pygments_lexer": "ipython3",
      "version": "3.7.10"
    },
    "colab": {
      "name": "problem1.ipynb",
      "provenance": [],
      "collapsed_sections": []
    }
  },
  "nbformat": 4,
  "nbformat_minor": 0
}